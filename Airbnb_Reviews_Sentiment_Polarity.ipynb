{
 "cells": [
  {
   "cell_type": "markdown",
   "metadata": {},
   "source": [
    "# Airbnb Reviews Sentiment Polarity\n",
    "\n",
    "The objective of this project is to find out the sentiment polarities, positive or negative of the Airbnb reviews.\n",
    "\n",
    "In my proposal, I mentioned want to do the sentiment analysis using aspect-based analysis, however, because of the speciality of this dataset as I will mention in the report, I decided to only using models to predict the sentiment polarity of each reviews.\n",
    "\n",
    "Ok, let's begain."
   ]
  },
  {
   "cell_type": "code",
   "execution_count": 16,
   "metadata": {},
   "outputs": [],
   "source": [
    "#Import useful packages\n",
    "import numpy as np\n",
    "import pandas as pd\n",
    "import matplotlib\n",
    "import matplotlib.pyplot as plt\n",
    "import seaborn as sns\n",
    "# matplotlib.style.use('ggplot')\n",
    "%matplotlib inline"
   ]
  },
  {
   "cell_type": "markdown",
   "metadata": {},
   "source": [
    "# Load Data & Overview"
   ]
  },
  {
   "cell_type": "code",
   "execution_count": 43,
   "metadata": {},
   "outputs": [],
   "source": [
    "# Load csv\n",
    "listings_data = pd.read_csv('data/listings.csv', header = 0)\n",
    "reviews_data = pd.read_csv('data/reviews.csv', header = 0)"
   ]
  },
  {
   "cell_type": "code",
   "execution_count": 44,
   "metadata": {},
   "outputs": [
    {
     "name": "stdout",
     "output_type": "stream",
     "text": [
      "False\n"
     ]
    },
    {
     "data": {
      "image/png": "[encoded data removed]",
      "text/plain": [
       "<Figure size 432x288 with 1 Axes>"
      ]
     },
     "metadata": {
      "needs_background": "light"
     },
     "output_type": "display_data"
    }
   ],
   "source": [
    "# The Gaussian distribution of Airbnb homes' overall ratings\n",
    "\n",
    "list_of_col1 = ['id', 'property_type', 'reviews_per_month', 'accommodates', 'review_scores_rating']\n",
    "listings_data = listings_data[list_of_col1].dropna()\n",
    "mu = np.mean(listings_data.review_scores_rating.values)\n",
    "sigma = np.std(listings_data.review_scores_rating.values)\n",
    "\n",
    "s = np.random.normal(mu, sigma, 100000)\n",
    "\n",
    "# Verify\n",
    "print(abs(sigma - np.std(s, ddof=1)) < 0.01)\n",
    "\n",
    "count, bins, ignored = plt.hist(s, 30, density=True)\n",
    "plt.plot(bins, 1/(sigma * np.sqrt(2 * np.pi)) * np.exp(-(bins - mu)**2 / (2 * sigma**2)), linewidth=2)\n",
    "plt.show()"
   ]
  },
  {
   "cell_type": "code",
   "execution_count": 46,
   "metadata": {},
   "outputs": [
    {
     "data": {
      "image/png": "[encoded data removed]",
      "text/plain": [
       "<Figure size 432x288 with 1 Axes>"
      ]
     },
     "metadata": {
      "needs_background": "light"
     },
     "output_type": "display_data"
    }
   ],
   "source": [
    "listings_data.loc[listings_data.review_scores_rating>=80,'Sentiment']=\"POSITIVE\"\n",
    "listings_data.loc[listings_data.review_scores_rating<80,'Sentiment']=\"NEGATIVE\"\n",
    "\n",
    "# Merge two datasets\n",
    "listings_and_reviews = pd.merge(reviews_data, listings_data, left_on = \"listing_id\", right_on = \"id\")\n",
    "\n",
    "list_of_col1 = ['listing_id', 'comments', 'Sentiment', 'date']\n",
    "all_comments = listings_and_reviews[list_of_col1].dropna()\n",
    "\n",
    "ax = plt.axes()\n",
    "sns.countplot(all_comments.Sentiment,ax=ax)\n",
    "ax.set_title('Sentiment Positive vs Negative Distribution')\n",
    "plt.show()"
   ]
  },
  {
   "cell_type": "code",
   "execution_count": 47,
   "metadata": {},
   "outputs": [
    {
     "name": "stdout",
     "output_type": "stream",
     "text": [
      "Number of positive reviews: 84202\n",
      "Proportion of positive reviews: 0.9928193276815508\n",
      "Number of negative reviews: 609\n",
      "Proportion of negative reviews: 0.007180672318449257\n"
     ]
    }
   ],
   "source": [
    "data = all_comments\n",
    "print(\"Number of positive reviews:\", len(data[data.Sentiment==\"POSITIVE\"]))\n",
    "print(\"Proportion of positive reviews:\", len(data[data.Sentiment==\"POSITIVE\"])/len(data))\n",
    "print(\"Number of negative reviews:\", len(data[data.Sentiment==\"NEGATIVE\"]))\n",
    "print(\"Proportion of negative reviews:\", len(data[data.Sentiment==\"NEGATIVE\"])/len(data))"
   ]
  },
  {
   "cell_type": "markdown",
   "metadata": {},
   "source": [
    "This is really impressive that the proportion of Low-rated Airbnb reviews is so small. Seems like the customers were compliment with almost all the homes offered by Airbnb.\n",
    "\n",
    "However, this might make my project very difficult in finding sufficient negative review data. So, next step I decided to specify my sample conditions first and then see some simple statistics."
   ]
  },
  {
   "cell_type": "markdown",
   "metadata": {},
   "source": [
    "## Combine and select datasets\n",
    "\n",
    "This part, I combined \"homes\" table with \"reviews\" table using the \"listing_id\" as the key. And I have some principles to finalize the dataset used in this project:\n",
    "\n",
    "1. use reviews data start from 2015-01-01 to guarantee the compatibility to current society;\n",
    "2. focus on the \"Apartment\" type of Airbnbs;\n",
    "3. focus on the Airbnbs homes that can accommodates 4 customers;\n",
    "4. the reviews received per month should no less than 2 to guarantee the value of the reviews.\n",
    "\n",
    "The reason is that this project is only aim to show a demo of the use of prediction models in dealing with sentiment analysis. Also, because of the time limitation, I decided to reduce the inintial dataset to make sure codes here won't cost too long time when running."
   ]
  },
  {
   "cell_type": "code",
   "execution_count": 49,
   "metadata": {},
   "outputs": [
    {
     "data": {
      "text/plain": [
       "Sentiment\n",
       "NEGATIVE      41\n",
       "POSITIVE    3923\n",
       "dtype: int64"
      ]
     },
     "execution_count": 49,
     "metadata": {},
     "output_type": "execute_result"
    }
   ],
   "source": [
    "# use reviews data start from 2015-01-01\n",
    "reviews_data.date = pd.to_datetime(reviews_data.date)\n",
    "reviews_data = reviews_data[reviews_data.date > \"2014-12-31\"]\n",
    "\n",
    "# Select homes than is \"Apartment\" and can accommodates 4 customers,\n",
    "# and meanwhile reviews received per month should no less than 2\n",
    "listings_data = listings_data[listings_data.property_type == 'Apartment'][listings_data.reviews_per_month>=2][listings_data.accommodates == 4]\n",
    "\n",
    "list_of_col2 = ['id', 'review_scores_rating', 'Sentiment']\n",
    "home_score = listings_data[list_of_col2]\n",
    "\n",
    "# merge \"homes\" table with \"reviews\" table and select useful columns\n",
    "homes_and_reviews = pd.merge(reviews_data, listings_data, left_on = \"listing_id\", right_on = \"id\")\n",
    "\n",
    "# Here, we have our first draft experiment data to be used to train model\n",
    "list_of_col3 = ['listing_id', 'comments', 'Sentiment']\n",
    "home_comments = homes_and_reviews[list_of_col3].dropna()\n",
    "\n",
    "# Take a subset of the dataset that filters out the reviews with automated postings.\n",
    "auto = 'The host canceled this reservation | days before arrival | This is an automated posting'\n",
    "home_comments = home_comments[home_comments.comments.str.contains(auto) == False]\n",
    "\n",
    "# See the number of reviews that are positive or negative respectively.\n",
    "home_comments.groupby('Sentiment').size()"
   ]
  },
  {
   "cell_type": "markdown",
   "metadata": {},
   "source": [
    "However, I'm afraid that only 41 negative reviews will affect the sentiment analysis model in predicting negative comments. So I'd like to add some older comments that were before 2015-01-01 to make some compensate.\n",
    "\n",
    "Also, because if using 4000+ reviews, the processing speed is too slow, I will randomly select 1000 positive reviews and compensate negetive reviews to 500 to make sure this demo could run successfully."
   ]
  },
  {
   "cell_type": "code",
   "execution_count": 62,
   "metadata": {},
   "outputs": [],
   "source": [
    "pos_sample = home_comments[home_comments.Sentiment == \"POSITIVE\"].sample(1000)\n",
    "neg_sample = all_comments[all_comments.Sentiment == \"NEGATIVE\"].sample(500).drop('date',axis=1)\n",
    "all_samples = pos_sample.append(neg_sample)"
   ]
  },
  {
   "cell_type": "markdown",
   "metadata": {},
   "source": [
    "# The Lexicon Approach --- NLTK Text-Processing API\n",
    "\n",
    "The backend logic of Lexicon Approach type methods for sentiment analysis is to look at each word individually, attribute positive points for positive words and negative points for negative words, and then total the points. \n",
    "\n",
    "The text-processing prediction api I used here is an NLTK 2.0.4 powered text classification process. The english sentiment in nltk uses classifiers trained on both twitter sentiment as well as movie reviews. Considering that the Airbnb reviews dataset has many similar characteristics with thoes, I assumed that the results from this api should be reasonable. So, I implemented this and computed the accuracy of prediction.\n",
    "\n",
    "Basically, the syntax is run the terminal command 'curl -d \"text =review\" http://text-processing.com/api/sentiment/', then it will return the predited results of the review in the following Json format:\n",
    "\n",
    "{\n",
    "    \"probability\":\n",
    "        {\n",
    "            \"neg\": 0.30135019761690551,\n",
    "            \"neutral\": 0.27119050546800266,\n",
    "            \"pos\": 0.69864980238309449\n",
    "        },\n",
    "    \"label\": \"pos\"\n",
    "}\n",
    "\n",
    "- Label:\twill be either pos if the text is determined to be positive, neg if the text is negative, or neutral if the text is neither pos nor neg.\n",
    "\n",
    "- Probability:\tan object that contains the probability for each label. neg and pos will add up to 1, while neutral is standalone. If neutral is greater than 0.5 then the label will be neutral. Otherwise, the label will be pos or neg, whichever has the greater probability.\n",
    "\n",
    "Besides, because this function already have its embeded training set, so the accuracy here will be only get the prediction results of all data in \"home_comments\" and then compare it with the original sentiment label."
   ]
  },
  {
   "cell_type": "code",
   "execution_count": 78,
   "metadata": {},
   "outputs": [
    {
     "name": "stdout",
     "output_type": "stream",
     "text": [
      "curl -d \"text=This was our first AirBNB experience, and I thought it was perfect for our trip. I didn't actually get to meet Carlos, but we were able to get into the building & apartment easily.  The apartment was very clean & accurately described.  It was a perfect location for us - inbetween the Pike Market Place (about 10 minute walk) and the Space Needle (about 5 minute walk), and close to many restaurants, bars, and a grocery store.  The Belltown Area is nice - we did hear from a few locals that you need to be careful around some blocks at night, but we felt safe the entire time.  We really appreciated Carlos' flexibility with allowing us to check-out late given our later flight time.  Overall, we were very pleased.\" http://text-processing.com/api/sentiment/\n"
     ]
    },
    {
     "ename": "JSONDecodeError",
     "evalue": "Expecting value: line 1 column 1 (char 0)",
     "output_type": "error",
     "traceback": [
      "\u001b[0;31m---------------------------------------------------------------------------\u001b[0m",
      "\u001b[0;31mJSONDecodeError\u001b[0m                           Traceback (most recent call last)",
      "\u001b[0;32m<ipython-input-78-dab2f8cf81a7>\u001b[0m in \u001b[0;36m<module>\u001b[0;34m()\u001b[0m\n\u001b[1;32m     24\u001b[0m \u001b[0;34m\u001b[0m\u001b[0m\n\u001b[1;32m     25\u001b[0m \u001b[0;31m# Here it tooks about 15 minites to finish. Please be patient if you replicate this experiment.\u001b[0m\u001b[0;34m\u001b[0m\u001b[0;34m\u001b[0m\u001b[0m\n\u001b[0;32m---> 26\u001b[0;31m \u001b[0mpredicted_labels\u001b[0m \u001b[0;34m=\u001b[0m \u001b[0mpredLabels\u001b[0m\u001b[0;34m(\u001b[0m\u001b[0mall_samples\u001b[0m\u001b[0;34m)\u001b[0m\u001b[0;34m\u001b[0m\u001b[0m\n\u001b[0m",
      "\u001b[0;32m<ipython-input-78-dab2f8cf81a7>\u001b[0m in \u001b[0;36mpredLabels\u001b[0;34m(df)\u001b[0m\n\u001b[1;32m     15\u001b[0m     \u001b[0mi\u001b[0m \u001b[0;34m=\u001b[0m \u001b[0;36m0\u001b[0m\u001b[0;34m\u001b[0m\u001b[0m\n\u001b[1;32m     16\u001b[0m     \u001b[0;32mfor\u001b[0m \u001b[0mstr\u001b[0m \u001b[0;32min\u001b[0m \u001b[0mdf\u001b[0m\u001b[0;34m.\u001b[0m\u001b[0mcomments\u001b[0m\u001b[0;34m:\u001b[0m\u001b[0;34m\u001b[0m\u001b[0m\n\u001b[0;32m---> 17\u001b[0;31m         \u001b[0mlabels\u001b[0m\u001b[0;34m.\u001b[0m\u001b[0mappend\u001b[0m\u001b[0;34m(\u001b[0m\u001b[0mgetLabel\u001b[0m\u001b[0;34m(\u001b[0m\u001b[0mstr\u001b[0m\u001b[0;34m)\u001b[0m\u001b[0;34m)\u001b[0m\u001b[0;34m\u001b[0m\u001b[0m\n\u001b[0m\u001b[1;32m     18\u001b[0m         \u001b[0mi\u001b[0m \u001b[0;34m+=\u001b[0m \u001b[0;36m1\u001b[0m\u001b[0;34m\u001b[0m\u001b[0m\n\u001b[1;32m     19\u001b[0m         \u001b[0;32mif\u001b[0m \u001b[0mi\u001b[0m \u001b[0;34m%\u001b[0m \u001b[0;36m100\u001b[0m \u001b[0;34m==\u001b[0m \u001b[0;36m0\u001b[0m\u001b[0;34m:\u001b[0m\u001b[0;34m\u001b[0m\u001b[0m\n",
      "\u001b[0;32m<ipython-input-78-dab2f8cf81a7>\u001b[0m in \u001b[0;36mgetLabel\u001b[0;34m(text)\u001b[0m\n\u001b[1;32m      8\u001b[0m     \u001b[0mprint\u001b[0m\u001b[0;34m(\u001b[0m\u001b[0mcmd\u001b[0m\u001b[0;34m)\u001b[0m\u001b[0;34m\u001b[0m\u001b[0m\n\u001b[1;32m      9\u001b[0m     \u001b[0mres\u001b[0m \u001b[0;34m=\u001b[0m \u001b[0mos\u001b[0m\u001b[0;34m.\u001b[0m\u001b[0mpopen\u001b[0m\u001b[0;34m(\u001b[0m\u001b[0mcmd\u001b[0m\u001b[0;34m)\u001b[0m\u001b[0;34m.\u001b[0m\u001b[0mread\u001b[0m\u001b[0;34m(\u001b[0m\u001b[0;34m)\u001b[0m\u001b[0;34m\u001b[0m\u001b[0m\n\u001b[0;32m---> 10\u001b[0;31m     \u001b[0;32mreturn\u001b[0m \u001b[0mjson\u001b[0m\u001b[0;34m.\u001b[0m\u001b[0mloads\u001b[0m\u001b[0;34m(\u001b[0m\u001b[0mres\u001b[0m\u001b[0;34m)\u001b[0m\u001b[0;34m[\u001b[0m\u001b[0;34m'label'\u001b[0m\u001b[0;34m]\u001b[0m\u001b[0;34m\u001b[0m\u001b[0m\n\u001b[0m\u001b[1;32m     11\u001b[0m \u001b[0;34m\u001b[0m\u001b[0m\n\u001b[1;32m     12\u001b[0m \u001b[0;31m# function to assign labels dataframe.\u001b[0m\u001b[0;34m\u001b[0m\u001b[0;34m\u001b[0m\u001b[0m\n",
      "\u001b[0;32m~/anaconda3/lib/python3.7/json/__init__.py\u001b[0m in \u001b[0;36mloads\u001b[0;34m(s, encoding, cls, object_hook, parse_float, parse_int, parse_constant, object_pairs_hook, **kw)\u001b[0m\n\u001b[1;32m    346\u001b[0m             \u001b[0mparse_int\u001b[0m \u001b[0;32mis\u001b[0m \u001b[0;32mNone\u001b[0m \u001b[0;32mand\u001b[0m \u001b[0mparse_float\u001b[0m \u001b[0;32mis\u001b[0m \u001b[0;32mNone\u001b[0m \u001b[0;32mand\u001b[0m\u001b[0;34m\u001b[0m\u001b[0m\n\u001b[1;32m    347\u001b[0m             parse_constant is None and object_pairs_hook is None and not kw):\n\u001b[0;32m--> 348\u001b[0;31m         \u001b[0;32mreturn\u001b[0m \u001b[0m_default_decoder\u001b[0m\u001b[0;34m.\u001b[0m\u001b[0mdecode\u001b[0m\u001b[0;34m(\u001b[0m\u001b[0ms\u001b[0m\u001b[0;34m)\u001b[0m\u001b[0;34m\u001b[0m\u001b[0m\n\u001b[0m\u001b[1;32m    349\u001b[0m     \u001b[0;32mif\u001b[0m \u001b[0mcls\u001b[0m \u001b[0;32mis\u001b[0m \u001b[0;32mNone\u001b[0m\u001b[0;34m:\u001b[0m\u001b[0;34m\u001b[0m\u001b[0m\n\u001b[1;32m    350\u001b[0m         \u001b[0mcls\u001b[0m \u001b[0;34m=\u001b[0m \u001b[0mJSONDecoder\u001b[0m\u001b[0;34m\u001b[0m\u001b[0m\n",
      "\u001b[0;32m~/anaconda3/lib/python3.7/json/decoder.py\u001b[0m in \u001b[0;36mdecode\u001b[0;34m(self, s, _w)\u001b[0m\n\u001b[1;32m    335\u001b[0m \u001b[0;34m\u001b[0m\u001b[0m\n\u001b[1;32m    336\u001b[0m         \"\"\"\n\u001b[0;32m--> 337\u001b[0;31m         \u001b[0mobj\u001b[0m\u001b[0;34m,\u001b[0m \u001b[0mend\u001b[0m \u001b[0;34m=\u001b[0m \u001b[0mself\u001b[0m\u001b[0;34m.\u001b[0m\u001b[0mraw_decode\u001b[0m\u001b[0;34m(\u001b[0m\u001b[0ms\u001b[0m\u001b[0;34m,\u001b[0m \u001b[0midx\u001b[0m\u001b[0;34m=\u001b[0m\u001b[0m_w\u001b[0m\u001b[0;34m(\u001b[0m\u001b[0ms\u001b[0m\u001b[0;34m,\u001b[0m \u001b[0;36m0\u001b[0m\u001b[0;34m)\u001b[0m\u001b[0;34m.\u001b[0m\u001b[0mend\u001b[0m\u001b[0;34m(\u001b[0m\u001b[0;34m)\u001b[0m\u001b[0;34m)\u001b[0m\u001b[0;34m\u001b[0m\u001b[0m\n\u001b[0m\u001b[1;32m    338\u001b[0m         \u001b[0mend\u001b[0m \u001b[0;34m=\u001b[0m \u001b[0m_w\u001b[0m\u001b[0;34m(\u001b[0m\u001b[0ms\u001b[0m\u001b[0;34m,\u001b[0m \u001b[0mend\u001b[0m\u001b[0;34m)\u001b[0m\u001b[0;34m.\u001b[0m\u001b[0mend\u001b[0m\u001b[0;34m(\u001b[0m\u001b[0;34m)\u001b[0m\u001b[0;34m\u001b[0m\u001b[0m\n\u001b[1;32m    339\u001b[0m         \u001b[0;32mif\u001b[0m \u001b[0mend\u001b[0m \u001b[0;34m!=\u001b[0m \u001b[0mlen\u001b[0m\u001b[0;34m(\u001b[0m\u001b[0ms\u001b[0m\u001b[0;34m)\u001b[0m\u001b[0;34m:\u001b[0m\u001b[0;34m\u001b[0m\u001b[0m\n",
      "\u001b[0;32m~/anaconda3/lib/python3.7/json/decoder.py\u001b[0m in \u001b[0;36mraw_decode\u001b[0;34m(self, s, idx)\u001b[0m\n\u001b[1;32m    353\u001b[0m             \u001b[0mobj\u001b[0m\u001b[0;34m,\u001b[0m \u001b[0mend\u001b[0m \u001b[0;34m=\u001b[0m \u001b[0mself\u001b[0m\u001b[0;34m.\u001b[0m\u001b[0mscan_once\u001b[0m\u001b[0;34m(\u001b[0m\u001b[0ms\u001b[0m\u001b[0;34m,\u001b[0m \u001b[0midx\u001b[0m\u001b[0;34m)\u001b[0m\u001b[0;34m\u001b[0m\u001b[0m\n\u001b[1;32m    354\u001b[0m         \u001b[0;32mexcept\u001b[0m \u001b[0mStopIteration\u001b[0m \u001b[0;32mas\u001b[0m \u001b[0merr\u001b[0m\u001b[0;34m:\u001b[0m\u001b[0;34m\u001b[0m\u001b[0m\n\u001b[0;32m--> 355\u001b[0;31m             \u001b[0;32mraise\u001b[0m \u001b[0mJSONDecodeError\u001b[0m\u001b[0;34m(\u001b[0m\u001b[0;34m\"Expecting value\"\u001b[0m\u001b[0;34m,\u001b[0m \u001b[0ms\u001b[0m\u001b[0;34m,\u001b[0m \u001b[0merr\u001b[0m\u001b[0;34m.\u001b[0m\u001b[0mvalue\u001b[0m\u001b[0;34m)\u001b[0m \u001b[0;32mfrom\u001b[0m \u001b[0;32mNone\u001b[0m\u001b[0;34m\u001b[0m\u001b[0m\n\u001b[0m\u001b[1;32m    356\u001b[0m         \u001b[0;32mreturn\u001b[0m \u001b[0mobj\u001b[0m\u001b[0;34m,\u001b[0m \u001b[0mend\u001b[0m\u001b[0;34m\u001b[0m\u001b[0m\n",
      "\u001b[0;31mJSONDecodeError\u001b[0m: Expecting value: line 1 column 1 (char 0)"
     ]
    }
   ],
   "source": [
    "# Use an avaliable text-processing api to get the sentiment of all reviews\n",
    "import os\n",
    "import json\n",
    "\n",
    "# Functions to get the API predicted results\n",
    "def getLabel(text):\n",
    "    cmd = 'curl -d \"text=' + text + '\" http://text-processing.com/api/sentiment/'\n",
    "    print(cmd)\n",
    "    res = os.popen(cmd).read()\n",
    "    return json.loads(res)['label']\n",
    "\n",
    "# function to assign labels dataframe.\n",
    "def predLabels(df):\n",
    "    labels = []\n",
    "    i = 0\n",
    "    for str in df.comments:\n",
    "        labels.append(getLabel(str))\n",
    "        i += 1\n",
    "        if i % 100 == 0:\n",
    "            print(i)\n",
    "#     df.label = labels\n",
    "    return labels\n",
    "\n",
    "\n",
    "# Here it tooks about 15 minites to finish. Please be patient if you replicate this experiment.\n",
    "predicted_labels = predLabels(all_samples)"
   ]
  },
  {
   "cell_type": "code",
   "execution_count": 388,
   "metadata": {},
   "outputs": [
    {
     "data": {
      "text/plain": [
       "array([1, 1, 1, ..., 1, 1, 1])"
      ]
     },
     "execution_count": 388,
     "metadata": {},
     "output_type": "execute_result"
    }
   ],
   "source": [
    "orininal_labels = np.array([1 if s==\"POSITIVE\" else 0 for s in all_samples.Sentiment.values])\n",
    "\n",
    "predicted_labels = np.array([1 if s==\"pos\" else 0 for s in all_samples.Sentiment.values])\n",
    "\n",
    "from sklearn.metrics import accuracy_score\n",
    "\n",
    "# Print the accuracy of using Lexicon Approach\n",
    "print(accuracy_score(orininal_labels, predicted_labels))"
   ]
  },
  {
   "cell_type": "markdown",
   "metadata": {},
   "source": [
    "The accuracy is %."
   ]
  },
  {
   "cell_type": "markdown",
   "metadata": {},
   "source": [
    "# Recurrent Neural Network\n",
    "\n",
    "Former kind of model apporach ignores the sequence of the words, which can lead to the loss of important information. So, I will try the RNN model in this part to see whether there are differences when doing prediction.\n",
    "\n",
    "Referenced to https://github.com/yanndupis/RNN-Amazon-Fine-Food-Reviews/blob/master/"
   ]
  },
  {
   "cell_type": "markdown",
   "metadata": {},
   "source": [
    "### Simply Processing review text"
   ]
  },
  {
   "cell_type": "code",
   "execution_count": 63,
   "metadata": {},
   "outputs": [],
   "source": [
    "from string import punctuation\n",
    "reviews_cleaned = []\n",
    "reviews = all_samples.comments.values\n",
    "for i in range(len(reviews)):\n",
    "    reviews_cleaned.append(''.join([c.lower() for c in reviews if c not in punctuation]))"
   ]
  },
  {
   "cell_type": "code",
   "execution_count": 64,
   "metadata": {},
   "outputs": [
    {
     "ename": "KeyError",
     "evalue": "'depart.'",
     "output_type": "error",
     "traceback": [
      "\u001b[0;31m---------------------------------------------------------------------------\u001b[0m",
      "\u001b[0;31mKeyError\u001b[0m                                  Traceback (most recent call last)",
      "\u001b[0;32m<ipython-input-64-7fc9eb2a1773>\u001b[0m in \u001b[0;36m<module>\u001b[0;34m()\u001b[0m\n\u001b[1;32m     15\u001b[0m     \u001b[0;32mreturn\u001b[0m \u001b[0mreviews_to_int\u001b[0m\u001b[0;34m\u001b[0m\u001b[0m\n\u001b[1;32m     16\u001b[0m \u001b[0;34m\u001b[0m\u001b[0m\n\u001b[0;32m---> 17\u001b[0;31m \u001b[0mreviews_to_int\u001b[0m \u001b[0;34m=\u001b[0m \u001b[0mreviews_to_intArray\u001b[0m\u001b[0;34m(\u001b[0m\u001b[0mreviews_cleaned\u001b[0m\u001b[0;34m)\u001b[0m\u001b[0;34m\u001b[0m\u001b[0m\n\u001b[0m",
      "\u001b[0;32m<ipython-input-64-7fc9eb2a1773>\u001b[0m in \u001b[0;36mreviews_to_intArray\u001b[0;34m(reviews)\u001b[0m\n\u001b[1;32m     11\u001b[0m     \u001b[0mreviews_to_int\u001b[0m \u001b[0;34m=\u001b[0m \u001b[0;34m[\u001b[0m\u001b[0;34m]\u001b[0m\u001b[0;34m\u001b[0m\u001b[0m\n\u001b[1;32m     12\u001b[0m     \u001b[0;32mfor\u001b[0m \u001b[0mi\u001b[0m \u001b[0;32min\u001b[0m \u001b[0mrange\u001b[0m\u001b[0;34m(\u001b[0m\u001b[0mlen\u001b[0m\u001b[0;34m(\u001b[0m\u001b[0mreviews\u001b[0m\u001b[0;34m)\u001b[0m\u001b[0;34m)\u001b[0m\u001b[0;34m:\u001b[0m\u001b[0;34m\u001b[0m\u001b[0m\n\u001b[0;32m---> 13\u001b[0;31m         \u001b[0mto_int\u001b[0m \u001b[0;34m=\u001b[0m \u001b[0;34m[\u001b[0m\u001b[0mvocabulary_to_int\u001b[0m\u001b[0;34m[\u001b[0m\u001b[0mword\u001b[0m\u001b[0;34m]\u001b[0m \u001b[0;32mfor\u001b[0m \u001b[0mword\u001b[0m \u001b[0;32min\u001b[0m \u001b[0mreviews\u001b[0m\u001b[0;34m[\u001b[0m\u001b[0mi\u001b[0m\u001b[0;34m]\u001b[0m\u001b[0;34m.\u001b[0m\u001b[0msplit\u001b[0m\u001b[0;34m(\u001b[0m\u001b[0;34m)\u001b[0m\u001b[0;34m]\u001b[0m\u001b[0;34m\u001b[0m\u001b[0m\n\u001b[0m\u001b[1;32m     14\u001b[0m         \u001b[0mreviews_to_int\u001b[0m\u001b[0;34m.\u001b[0m\u001b[0mappend\u001b[0m\u001b[0;34m(\u001b[0m\u001b[0mto_int\u001b[0m\u001b[0;34m)\u001b[0m\u001b[0;34m\u001b[0m\u001b[0m\n\u001b[1;32m     15\u001b[0m     \u001b[0;32mreturn\u001b[0m \u001b[0mreviews_to_int\u001b[0m\u001b[0;34m\u001b[0m\u001b[0m\n",
      "\u001b[0;32m<ipython-input-64-7fc9eb2a1773>\u001b[0m in \u001b[0;36m<listcomp>\u001b[0;34m(.0)\u001b[0m\n\u001b[1;32m     11\u001b[0m     \u001b[0mreviews_to_int\u001b[0m \u001b[0;34m=\u001b[0m \u001b[0;34m[\u001b[0m\u001b[0;34m]\u001b[0m\u001b[0;34m\u001b[0m\u001b[0m\n\u001b[1;32m     12\u001b[0m     \u001b[0;32mfor\u001b[0m \u001b[0mi\u001b[0m \u001b[0;32min\u001b[0m \u001b[0mrange\u001b[0m\u001b[0;34m(\u001b[0m\u001b[0mlen\u001b[0m\u001b[0;34m(\u001b[0m\u001b[0mreviews\u001b[0m\u001b[0;34m)\u001b[0m\u001b[0;34m)\u001b[0m\u001b[0;34m:\u001b[0m\u001b[0;34m\u001b[0m\u001b[0m\n\u001b[0;32m---> 13\u001b[0;31m         \u001b[0mto_int\u001b[0m \u001b[0;34m=\u001b[0m \u001b[0;34m[\u001b[0m\u001b[0mvocabulary_to_int\u001b[0m\u001b[0;34m[\u001b[0m\u001b[0mword\u001b[0m\u001b[0;34m]\u001b[0m \u001b[0;32mfor\u001b[0m \u001b[0mword\u001b[0m \u001b[0;32min\u001b[0m \u001b[0mreviews\u001b[0m\u001b[0;34m[\u001b[0m\u001b[0mi\u001b[0m\u001b[0;34m]\u001b[0m\u001b[0;34m.\u001b[0m\u001b[0msplit\u001b[0m\u001b[0;34m(\u001b[0m\u001b[0;34m)\u001b[0m\u001b[0;34m]\u001b[0m\u001b[0;34m\u001b[0m\u001b[0m\n\u001b[0m\u001b[1;32m     14\u001b[0m         \u001b[0mreviews_to_int\u001b[0m\u001b[0;34m.\u001b[0m\u001b[0mappend\u001b[0m\u001b[0;34m(\u001b[0m\u001b[0mto_int\u001b[0m\u001b[0;34m)\u001b[0m\u001b[0;34m\u001b[0m\u001b[0m\n\u001b[1;32m     15\u001b[0m     \u001b[0;32mreturn\u001b[0m \u001b[0mreviews_to_int\u001b[0m\u001b[0;34m\u001b[0m\u001b[0m\n",
      "\u001b[0;31mKeyError\u001b[0m: 'depart.'"
     ]
    }
   ],
   "source": [
    "# Store all the text from each review together\n",
    "text = ' '.join(reviews_cleaned)\n",
    "\n",
    "# List all the vocabulary contained in the all reviews\n",
    "vocabulary = set(text.split(' '))\n",
    "\n",
    "# Map each word to an integer\n",
    "vocabulary_to_int = {word:i for i,word in enumerate(vocabulary,0)}\n",
    "\n",
    "def reviews_to_intArray(reviews):\n",
    "    reviews_to_int = []\n",
    "    for i in range(len(reviews)):\n",
    "        to_int = [vocabulary_to_int[word] for word in reviews[i].split()]\n",
    "        reviews_to_int.append(to_int)\n",
    "    return reviews_to_int\n",
    "\n",
    "# This takes around minites\n",
    "reviews_to_int = reviews_to_intArray(reviews_cleaned)"
   ]
  },
  {
   "cell_type": "code",
   "execution_count": null,
   "metadata": {},
   "outputs": [],
   "source": [
    "reviews_cleaned"
   ]
  },
  {
   "cell_type": "markdown",
   "metadata": {},
   "source": [
    "### Training RNN\n",
    "\n",
    "To train the RRN on the review dataset we need to determine the max_length of the array to store the integer array that representing each review and enough rows to fit one review per row. \n",
    "\n",
    "If the number of words in the review is less than the max_length, we can pad the list with extra zeros. If the number of words in the review are more than the max_length then I choose to limit the review to the first n words.\n",
    "\n",
    "Here I choose max_length = 200."
   ]
  },
  {
   "cell_type": "code",
   "execution_count": null,
   "metadata": {},
   "outputs": [],
   "source": [
    "review_lengths = [len(review) for review in reviews_to_int]\n",
    "print(\"Shortest review:\", min(review_lengths))\n",
    "print(\"Longest revies:\",max(review_lengths))\n",
    "\n",
    "ax = plt.axes()\n",
    "sns.distplot(review_lengths)\n",
    "ax.set_title(\"Distribution of the review lengths\")\n",
    "plt.plot()"
   ]
  },
  {
   "cell_type": "code",
   "execution_count": null,
   "metadata": {},
   "outputs": [],
   "source": [
    "pd.DataFrame(review_lengths).describe()"
   ]
  },
  {
   "cell_type": "markdown",
   "metadata": {},
   "source": [
    "The mean and the third quartile of the review length is equal to 79 and 97, respectively. Therefore if we limit the review length to 200 words, we shouldn't lose too much information."
   ]
  },
  {
   "cell_type": "code",
   "execution_count": null,
   "metadata": {},
   "outputs": [],
   "source": [
    "max_length = 200\n",
    "features = np.zeros(shape=(len(reviews_to_int),max_length),dtype=int)\n",
    "\n",
    "for i in range(len(reviews_to_int)):\n",
    "    nb_words = len(reviews_to_int[i])\n",
    "    features[i] = [0]*(max_length -nb_words) + reviews_to_int[i][:200]"
   ]
  },
  {
   "cell_type": "markdown",
   "metadata": {},
   "source": [
    "### Split to training and validation set"
   ]
  },
  {
   "cell_type": "code",
   "execution_count": null,
   "metadata": {},
   "outputs": [],
   "source": [
    "from sklearn.model_selection import StratifiedShuffleSplit\n",
    "\n",
    "sss = StratifiedShuffleSplit(n_splits=1, test_size=0.2, random_state=5435)\n",
    "\n",
    "splitter = sss.split(features, labels)\n",
    "train_index, validation_index = next(splitter)\n",
    "test_index = validation_index[:int(len(validation_index)/2)]\n",
    "validation_index = validation_index[int(len(validation_index)/2):]\n",
    "\n",
    "train_x, train_y = features[train_index], labels[train_index]\n",
    "val_x, val_y = features[test_index], labels[test_index]\n",
    "test_x, test_y = features[validation_index], labels[validation_index]\n",
    "\n",
    "print(\"\\t\\t\\tFeature Shapes:\")\n",
    "print(\"Train set: \\t\\t{}\".format(train_x.shape), \n",
    "      \"\\nValidation set: \\t{}\".format(val_x.shape),\n",
    "      \"\\nTest set: \\t\\t{}\".format(test_x.shape))"
   ]
  },
  {
   "cell_type": "markdown",
   "metadata": {},
   "source": [
    "### Build the LSTM model with Tensorflow\n",
    "The next step is to build the recurrent neural network using the popular deep learning framework, Tensorflow.\n",
    "\n",
    "To feed input, labels and keep_prob data into Tensorflow we need to first create placeholders.\n",
    "```python\n",
    "inputs_ = tf.placeholder(tf.int32,[None, None],name='inputs_')\n",
    "labels_ = tf.placeholder(tf.int32,[None, None],name='labels_')\n",
    "keep_prob = tf.placeholder(tf.float32,name='keep_prob')\n",
    "```\n",
    "\n",
    "Once we send the input data (the reviews) to Tensorflow, we want to transform each integer representing a word into a vector. As mentioned earlier, this method is called embedding.\n",
    "\n",
    "```python\n",
    "embedding = tf.Variable(tf.random_normal((n_words,embed_size),-1,1),name='embedding_')\n",
    "embed = tf.nn.embedding_lookup(embedding,inputs_)\n",
    "```\n",
    "\n",
    "Then we need to create our LSTM cells and specify the number of hidden units in the LSTM cell.\n",
    "```python\n",
    "lstm = tf.contrib.rnn.BasicLSTMCell(lstm_size)\n",
    "```\n",
    "\n",
    "It's always a good practice to add a Dropout layer to prevent the model from overfitting on the training set.\n",
    "```python\n",
    "drop = tf.contrib.rnn.DropoutWrapper(lstm,output_keep_prob=keep_prob)\n",
    "```\n",
    "By using tf.contrib.rnn.MultiRNNCell we can stack multiple LSTM layers. Usually in deep learning, the more hidden layers you have, the better the prediction will be.\n",
    "```python\n",
    "cell = tf.contrib.rnn.MultiRNNCell([drop]*lstm_layer*)\n",
    "```\n",
    "\n",
    "We initialize all the states to zero.\n",
    "```python\n",
    "initial_state = cell.zero_state(batch_size, tf.float32)\n",
    "```\n",
    "\n",
    "Then we want to pass the input data through the LSTM cells. The output of each LSTM cell is carried to the next LSTM cell. This mechanism allow the recurrent neural network to memorize information.\n",
    "```python\n",
    "outputs, final_state = tf.nn.dynamic_rnn(cell, embed, initial_state=initial_state)\n",
    "```\n",
    "\n",
    "To get our prediction, we use a fully connected layer with a sigmoid function.\n",
    "```python\n",
    "predictions = tf.contrib.layers.fully_connected(outputs[:, -1], 1,\n",
    "                                                activation_fn=tf.sigmoid,\n",
    "                                                weights_initializer=\n",
    "                                                tf.truncated_normal_initializer(stddev=0.1))\n",
    "```\n",
    "\n",
    "To measure the accuracy of our neural network, we need to define the cost function. For this problem, we will use the mean squared error.\n",
    "```python\n",
    "cost = tf.losses.mean_squared_error(labels_, predictions)\n",
    "```\n",
    "Finally, we want to minimize our cost function in order to make our network output as close as possible to the target values. For this project, we will use the Adam optimizer.\n",
    "```python\n",
    "optimizer = tf.train.AdamOptimizer(learning_rate).minimize(cost)\n",
    "```"
   ]
  },
  {
   "cell_type": "code",
   "execution_count": null,
   "metadata": {},
   "outputs": [],
   "source": [
    "lstm_size = 256\n",
    "lstm_layers = 1\n",
    "batch_size = 500\n",
    "learning_rate = 0.001\n",
    "embed_size = 200 "
   ]
  },
  {
   "cell_type": "code",
   "execution_count": 39,
   "metadata": {
    "collapsed": true
   },
   "outputs": [],
   "source": [
    "def build_rnn(vocabulary_to_int,\n",
    "              embed_size=embed_size,\n",
    "              batch_size=batch_size,\n",
    "              learning_rate=learning_rate,\n",
    "              lstm_size=lstm_size,\n",
    "              lstm_layers=lstm_layers):\n",
    "    \n",
    "    tf.reset_default_graph()\n",
    "    \n",
    "    n_words = len(vocabulary_to_int)\n",
    "    \n",
    "    with tf.name_scope('inputs'):\n",
    "        inputs_ = tf.placeholder(tf.int32,[None, None],name='inputs_')\n",
    "    with tf.name_scope('labels'):\n",
    "        labels_ = tf.placeholder(tf.int32,[None, None],name='labels_')\n",
    "    with tf.name_scope('keep_prob'):    \n",
    "        keep_prob = tf.placeholder(tf.float32,name='keep_prob')\n",
    "        \n",
    "    with tf.name_scope('embedding'):\n",
    "        embedding = tf.Variable(tf.random_normal((n_words,embed_size),-1,1),name='embedding_')\n",
    "        embed = tf.nn.embedding_lookup(embedding,inputs_)\n",
    "        \n",
    "    with tf.name_scope(\"RNN_cells\"):\n",
    "        lstm = tf.contrib.rnn.BasicLSTMCell(lstm_size)\n",
    "\n",
    "        # Add dropout to the cell\n",
    "        drop = tf.contrib.rnn.DropoutWrapper(lstm,output_keep_prob=keep_prob)\n",
    "\n",
    "        # Stack up multiple LSTM layers, for deep learning\n",
    "        cell = tf.contrib.rnn.MultiRNNCell([drop]*lstm_layers)\n",
    "        \n",
    "        with tf.name_scope(\"RNN_init_state\"):\n",
    "            # Getting an initial state of all zeros\n",
    "            initial_state = cell.zero_state(batch_size, tf.float32)\n",
    "    \n",
    "    with tf.name_scope(\"RNN_forward\"):\n",
    "        outputs, final_state = tf.nn.dynamic_rnn(cell, embed, initial_state=initial_state)\n",
    "        \n",
    "    with tf.name_scope('predictions'):\n",
    "        predictions = tf.contrib.layers.fully_connected(outputs[:, -1], 1, \n",
    "                                                        activation_fn=tf.sigmoid,\n",
    "                                                        weights_initializer=\n",
    "                                                        tf.truncated_normal_initializer(stddev=0.1))   \n",
    "    with tf.name_scope('cost'):\n",
    "        cost = tf.losses.mean_squared_error(labels_, predictions)\n",
    "        tf.summary.scalar('cost', cost)\n",
    "    \n",
    "    with tf.name_scope('train'):\n",
    "        optimizer = tf.train.AdamOptimizer(learning_rate).minimize(cost)\n",
    "    \n",
    "    with tf.name_scope('accuracy'):\n",
    "        correct_pred = tf.equal(tf.cast(tf.round(predictions), tf.int32), labels_)\n",
    "        accuracy = tf.reduce_mean(tf.cast(correct_pred, tf.float32))\n",
    "    \n",
    "    merged = tf.summary.merge_all()\n",
    "    \n",
    "    # Export the nodes \n",
    "    export_nodes = ['inputs_', 'labels_','initial_state', 'final_state',\n",
    "                    'keep_prob', 'cell', 'cost', 'predictions', 'optimizer',\n",
    "                    'accuracy','merged']\n",
    "    \n",
    "    Graph = namedtuple('Graph', export_nodes)\n",
    "    \n",
    "    local_dict = locals()\n",
    "    graph = Graph(*[local_dict[each] for each in export_nodes])\n",
    "    \n",
    "    return graph"
   ]
  },
  {
   "cell_type": "markdown",
   "metadata": {},
   "source": [
    "To train our model, we use the stochastic gradient descent approach. This method consists of calculating an estimate of the cost function on small batches of the dataset. This approach is more scalable than a traditional gradient descent."
   ]
  },
  {
   "cell_type": "code",
   "execution_count": null,
   "metadata": {},
   "outputs": [],
   "source": [
    "def get_batches(x, y, batch_size=100):\n",
    "    \n",
    "    n_batches = len(x)//batch_size\n",
    "    x, y = x[:n_batches*batch_size], y[:n_batches*batch_size]\n",
    "    for ii in range(0, len(x), batch_size):\n",
    "        yield x[ii:ii+batch_size], y[ii:ii+batch_size]\n",
    "\n",
    "epochs = 5\n",
    "\n",
    "def train(model, epoch,train_writer,test_writer):\n",
    "    \n",
    "    saver = tf.train.Saver()\n",
    "\n",
    "    with tf.Session() as sess:\n",
    "        sess.run(tf.global_variables_initializer())\n",
    "    \n",
    "        iteration = 1\n",
    "        for e in range(epochs):\n",
    "            state = sess.run(model.initial_state)\n",
    "\n",
    "            for ii, (x, y) in enumerate(get_batches(train_x, train_y, batch_size), 1):\n",
    "                feed = {model.inputs_: x,\n",
    "                        model.labels_: y[:, None],\n",
    "                        model.keep_prob: 0.5,\n",
    "                        model.initial_state: state}\n",
    "                summary,loss, state, _ = sess.run([model.merged,model.cost, \n",
    "                                                   model.final_state, \n",
    "                                                   model.optimizer], feed_dict=feed)\n",
    "\n",
    "                if iteration%5==0:\n",
    "                    print(\"Epoch: {}/{}\".format(e, epochs),\n",
    "                          \"Iteration: {}\".format(iteration),\n",
    "                          \"Train loss: {:.3f}\".format(loss))\n",
    "\n",
    "                train_writer.add_summary(summary, iteration)\n",
    "\n",
    "                if iteration%25==0:\n",
    "                    val_acc = []\n",
    "                    val_state = sess.run(model.cell.zero_state(batch_size, tf.float32))\n",
    "                    for x, y in get_batches(val_x, val_y, batch_size):\n",
    "                        feed = {model.inputs_: x,\n",
    "                                model.labels_: y[:, None],\n",
    "                                model.keep_prob: 1,\n",
    "                                model.initial_state: val_state}\n",
    "                        summary, batch_acc, val_state = sess.run([model.merged,model.accuracy, \n",
    "                                                         model.final_state], feed_dict=feed)\n",
    "                        val_acc.append(batch_acc)\n",
    "\n",
    "                    test_writer.add_summary(summary,iteration)\n",
    "                    print(\"Val acc: {:.3f}\".format(np.mean(val_acc)))\n",
    "\n",
    "                iteration +=1\n",
    "        saver.save(sess, \"output/checkpoints/sentiment.ckpt\")"
   ]
  }
 ],
 "metadata": {
  "kernelspec": {
   "display_name": "Python 3",
   "language": "python",
   "name": "python3"
  },
  "language_info": {
   "codemirror_mode": {
    "name": "ipython",
    "version": 3
   },
   "file_extension": ".py",
   "mimetype": "text/x-python",
   "name": "python",
   "nbconvert_exporter": "python",
   "pygments_lexer": "ipython3",
   "version": "3.7.0"
  }
 },
 "nbformat": 4,
 "nbformat_minor": 2
}
